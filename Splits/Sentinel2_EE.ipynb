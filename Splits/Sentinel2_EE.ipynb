{
 "cells": [
  {
   "cell_type": "markdown",
   "metadata": {
    "id": "XSJntenDz7cq"
   },
   "source": [
    "# Setup"
   ]
  },
  {
   "cell_type": "markdown",
   "metadata": {
    "id": "1XKkhwJD0Dd8"
   },
   "source": [
    "## Ecoscope"
   ]
  },
  {
   "cell_type": "code",
   "execution_count": null,
   "metadata": {
    "id": "5aNVpoWypNTZ"
   },
   "outputs": [],
   "source": [
    "import os\n",
    "import geopandas as gpd\n",
    "import numpy as np\n",
    "import pandas as pd\n",
    "import sys"
   ]
  },
  {
   "cell_type": "markdown",
   "metadata": {
    "id": "vG3AIejG0Jwz"
   },
   "source": [
    "## Google EarthEngine"
   ]
  },
  {
   "cell_type": "markdown",
   "metadata": {
    "id": "1SD0c1wRoycV"
   },
   "source": [
    "Change it to your own credentials (project name)"
   ]
  },
  {
   "cell_type": "code",
   "execution_count": null,
   "metadata": {
    "id": "vtkCw0xmqSLa"
   },
   "outputs": [],
   "source": [
    "import ee\n",
    "import os\n",
    "\n",
    "ee.Authenticate()  # will prompt for the Cloud project\n",
    "ee.Initialize(project=\"PROJECT_NAME\") # Add your project name"
   ]
  },
  {
   "cell_type": "markdown",
   "metadata": {
    "id": "88yxjOlL0UPv"
   },
   "source": [
    "## Google Drive"
   ]
  },
  {
   "cell_type": "code",
   "execution_count": null,
   "metadata": {
    "colab": {
     "base_uri": "https://localhost:8080/"
    },
    "id": "h1uqI90VmIEF",
    "outputId": "04d05096-52fe-4e73-d0ba-cc233e41a47a"
   },
   "outputs": [],
   "source": [
    "from google.colab import drive\n",
    "drive.mount('/content/drive')"
   ]
  },
  {
   "cell_type": "code",
   "execution_count": null,
   "metadata": {
    "id": "fXozCVs_mNTi"
   },
   "outputs": [],
   "source": [
    "WORKING_DIRECTORY = '/content/drive/My Drive/TIF_TEST' # Change for custom folder path to save rasters from EarthEngine\n",
    "\n",
    "os.chdir(WORKING_DIRECTORY)"
   ]
  },
  {
   "cell_type": "markdown",
   "metadata": {
    "id": "nYOOqXeq7V_2"
   },
   "source": [
    "### Extracting TIFs"
   ]
  },
  {
   "cell_type": "code",
   "execution_count": null,
   "metadata": {
    "id": "EBHRuIDn7ZXF"
   },
   "outputs": [],
   "source": [
    "df_metadata = pd.read_csv(\"metadata/hotspots_za_counts_merged_1km_trimmed.csv\") # Change for custom filepath with hotspots coords and polygon"
   ]
  },
  {
   "cell_type": "code",
   "execution_count": null,
   "metadata": {
    "colab": {
     "base_uri": "https://localhost:8080/"
    },
    "id": "ih-lIhIhN0IV",
    "outputId": "ea3003d3-99e1-4f5b-eaa5-04e53328a71e"
   },
   "outputs": [],
   "source": [
    "len(df_metadata)"
   ]
  },
  {
   "cell_type": "code",
   "execution_count": null,
   "metadata": {
    "colab": {
     "base_uri": "https://localhost:8080/"
    },
    "id": "IvLWFR9GsqKf",
    "outputId": "f914fb18-21ff-4536-8dfa-32f55c36a5ef"
   },
   "outputs": [],
   "source": [
    "tif_files = [os.path.splitext(f)[0] for f in os.listdir(\".\") if f.lower().endswith(\".tif\")]\n",
    "len(tif_files)"
   ]
  },
  {
   "cell_type": "code",
   "execution_count": null,
   "metadata": {
    "id": "ARuBgjXjN9xv"
   },
   "outputs": [],
   "source": [
    "import ee\n",
    "import geopandas as gpd\n",
    "from shapely import wkt\n",
    "\n",
    "# 1. Load your polygon (WKT or shapefile)\n",
    "# Option 1: from WKT\n",
    "\n",
    "for i in range(len(df_metadata)):\n",
    "  row = df_metadata.iloc[i]\n",
    "  hotspot_name = row['hotspot_id']\n",
    "  if hotspot_name not in tif_files:\n",
    "    print(hotspot_name)"
   ]
  },
  {
   "cell_type": "code",
   "execution_count": null,
   "metadata": {
    "colab": {
     "base_uri": "https://localhost:8080/"
    },
    "id": "OtUvNW7z7X1_",
    "outputId": "4d6eb875-0ac2-4eec-8d2d-9ee6fa2ebc21"
   },
   "outputs": [],
   "source": [
    "import ee\n",
    "import geopandas as gpd\n",
    "from shapely import wkt\n",
    "\n",
    "for i in range(len(df_metadata)):\n",
    "  row = df_metadata.iloc[i]\n",
    "  hotspot_name = row['hotspot_id']\n",
    "  if hotspot_name not in tif_files:\n",
    "    polygon_string = row['geometry']\n",
    "\n",
    "    wkt_string = wkt.loads(polygon_string).exterior.coords\n",
    "    print(list(wkt_string))\n",
    "    geometry = ee.Geometry.Polygon(list(wkt_string))\n",
    "\n",
    "    # 2. Get Sentinel-2 image collection and filter\n",
    "    s2 = (\n",
    "        ee.ImageCollection(\"COPERNICUS/S2_SR_HARMONIZED\")\n",
    "        .filterBounds(geometry)\n",
    "        .filterDate(\"2024-05-01\", \"2024-09-01\")\n",
    "        .filter(ee.Filter.lte(\"CLOUDY_PIXEL_PERCENTAGE\", 10))\n",
    "    )\n",
    "\n",
    "\n",
    "    # 4. Mosaic and select RGB + NIR bands\n",
    "    mosaic = s2.mosaic().select([\"B2\", \"B3\", \"B4\", \"B8\"])\n",
    "\n",
    "    # 5. Export to Google Drive\n",
    "    task = ee.batch.Export.image.toDrive(\n",
    "        image=mosaic,\n",
    "        description=\"Sentinel2_RGBNIR_Mosaic\",\n",
    "        folder=\"TIF_TEST\", # Change for custom folder name\n",
    "        fileNamePrefix=hotspot_name,\n",
    "        region=geometry,\n",
    "        scale=10,\n",
    "        maxPixels=1e13\n",
    "    )\n",
    "\n",
    "    task.start()\n",
    "    print(\"Export started. Check your Google Drive.\")\n",
    "    break"
   ]
  },
  {
   "cell_type": "code",
   "execution_count": null,
   "metadata": {
    "colab": {
     "base_uri": "https://localhost:8080/"
    },
    "id": "1rJHysCS8t3H",
    "outputId": "1f028ca2-1cbc-42da-88d1-5a61ad4b8e9d"
   },
   "outputs": [],
   "source": [
    "task.status()\n"
   ]
  }
 ],
 "metadata": {
  "colab": {
   "machine_shape": "hm",
   "provenance": []
  },
  "kernelspec": {
   "display_name": "Python 3 (ipykernel)",
   "language": "python",
   "name": "python3"
  },
  "language_info": {
   "codemirror_mode": {
    "name": "ipython",
    "version": 3
   },
   "file_extension": ".py",
   "mimetype": "text/x-python",
   "name": "python",
   "nbconvert_exporter": "python",
   "pygments_lexer": "ipython3",
   "version": "3.7.12"
  }
 },
 "nbformat": 4,
 "nbformat_minor": 0
}
